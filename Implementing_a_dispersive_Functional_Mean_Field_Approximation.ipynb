{
  "cells": [
    {
      "cell_type": "markdown",
      "metadata": {
        "id": "view-in-github",
        "colab_type": "text"
      },
      "source": [
        "<a href=\"https://colab.research.google.com/github/vsermoud/Introduction-to-Classical-DFT/blob/main/Implementing_a_dispersive_Functional_Mean_Field_Approximation.ipynb\" target=\"_parent\"><img src=\"https://colab.research.google.com/assets/colab-badge.svg\" alt=\"Open In Colab\"/></a>"
      ]
    },
    {
      "cell_type": "markdown",
      "id": "760559d1",
      "metadata": {
        "id": "760559d1"
      },
      "source": [
        "# Dispersive contribution - Mean-field approach"
      ]
    },
    {
      "cell_type": "markdown",
      "id": "c266fb41",
      "metadata": {
        "id": "c266fb41"
      },
      "source": [
        "### The term of dispersive contributions will represent the attractions that the fluid molecules have with each other. Considering the mean-field approximation, the residual dispersive free energy term ($F_{disp}$) is described as a functional of the density of the fluid by,"
      ]
    },
    {
      "cell_type": "markdown",
      "id": "ea5ecea6",
      "metadata": {
        "id": "ea5ecea6"
      },
      "source": [
        "### $F_{disp}[\\rho(\\textbf{r})] = \\frac{1}{2}\\int \\int \\rho(\\textbf{r})\\rho(\\textbf{r'})\\phi_{disp}(\\left|\\textbf{r}-\\textbf{r'} \\right|)\\text{d}\\textbf{r}\\text{d}\\textbf{r'}$\n",
        "\n",
        "### $F_{disp}[\\rho(\\textbf{r})] = \\frac{1}{2}\\int \\int \\rho(\\textbf{r})\\rho(\\textbf{r'})\\phi_{disp}(\\left|\\textbf{r}-\\textbf{r'} \\right|)\\text{d}\\textbf{r}\\text{d}\\textbf{r'}$\n",
        "\n",
        "### $$\n",
        "\\phi_{\\text{disp}}^{\\text{WCA}}(r) = \\begin{cases}\n",
        "0 & \\text{if } r > 5\\sigma \\\\\n",
        "4\\epsilon\\left[\\left(\\frac{\\sigma}{r}\\right)^{12}-2\\left(\\frac{\\sigma}{r}\\right)^{6}\\right] & \\text{if } 2^{\\frac{1}{6}}\\sigma \\leq r \\leq 5\\sigma \\\\\n",
        "-\\epsilon & \\text{if } r < 2^{\\frac{1}{6}}\\sigma\n",
        "\\end{cases}\n",
        "$$"
      ]
    },
    {
      "cell_type": "markdown",
      "id": "ba01f055",
      "metadata": {
        "id": "ba01f055"
      },
      "source": [
        "### In which $\\sigma$ and $\\epsilon$ are the Lennard-Jones parameters.\n",
        "### Considering the case of the uniform fluid, this description is consistent with the following additive contribution to the equation of state:\n",
        "\n",
        "### $\\mu_{disp} = \\rho_b \\int \\phi_{disp}(\\textbf{r}) \\text{d}\\textbf{r}$\n",
        "\n",
        "### $P_{disp} = \\frac{1}{2} \\rho_b^2 \\int \\phi_{disp}(\\textbf{r}) \\text{d}\\textbf{r} $"
      ]
    },
    {
      "cell_type": "markdown",
      "id": "2f7bd0b6",
      "metadata": {
        "id": "2f7bd0b6"
      },
      "source": [
        "### In which $\\rho_b$ is the bulk fluid density, and considering the WCA potential:\n",
        "\n",
        "### $\\int \\phi_{disp}(\\textbf{r}) \\text{d}\\textbf{r} = -\\sqrt{2}\\frac{32}{9}\\pi \\epsilon \\sigma^3 + \\frac{16}{3}\\pi \\epsilon \\sigma \\left[ \\left(\\frac{\\sigma}{r_c} \\right)^3-\\frac{1}{3} \\left(\\frac{\\sigma}{r_c} \\right)^9 \\right]$\n",
        "\n",
        "### In which rc is the cuttof radius. Here we considered rc = 5 $\\sigma$.\n",
        "\n",
        "### To obtain the volumetric properties of a fluid with its parameters and T and P described below."
      ]
    },
    {
      "cell_type": "code",
      "execution_count": null,
      "id": "9f244830",
      "metadata": {
        "id": "9f244830"
      },
      "outputs": [],
      "source": [
        "#Temperature of the system [K]\n",
        "T = 80.\n",
        "#Volumar Pressure [Bar]\n",
        "P = 1.\n",
        "#LJ Properties of the molecule probe\n",
        "Sigma_ff = 3.305 #A\n",
        "d_HS = 3.38#Sigma_ff\n",
        "Eps_kb = 118.05 #K\n",
        "#Boltzmann constant\n",
        "kb = 1.3806488e-23"
      ]
    },
    {
      "cell_type": "markdown",
      "id": "c097b684",
      "metadata": {
        "id": "c097b684"
      },
      "source": [
        "### Solid-Fluid parameters"
      ]
    },
    {
      "cell_type": "code",
      "execution_count": null,
      "id": "1874ebd5",
      "metadata": {
        "id": "1874ebd5"
      },
      "outputs": [],
      "source": [
        "E_eff = 1000    #Efective wall parameter [K]\n",
        "Sigma_sf = 2.8 #Solid molecule parameter [Angstrom]"
      ]
    },
    {
      "cell_type": "markdown",
      "id": "f2709027",
      "metadata": {
        "id": "f2709027"
      },
      "source": [
        "### Removing the dimension of the variables"
      ]
    },
    {
      "cell_type": "code",
      "execution_count": null,
      "id": "1b3e925a",
      "metadata": {
        "id": "1b3e925a"
      },
      "outputs": [],
      "source": [
        "# T[K] / Eps_kb[K]\n",
        "T = T/Eps_kb\n",
        "\n",
        "# bar -> Pa (kg/m s^2)\n",
        "# kb [kg⋅m2⋅s−2/K] * Eps_kb[K] * Sigma_ff*1.e-10)**3 [m^3] ~ [kg/m s^2]\n",
        "P = ((P*1.e5)/(kb*Eps_kb)*(Sigma_ff*1.e-10)**3)\n",
        "\n",
        "# E_eff[K/A^2] / Eps_kb[K] * Sigma_ff^2 [A^2]\n",
        "E_eff = 17.61#E_eff/Eps_kb\n",
        "\n",
        "# Eps_kb[K]\n",
        "Eps_kb = Eps_kb/Eps_kb\n",
        "\n",
        "#d_HS[A] / Sigma_ff[A]\n",
        "d_HS = d_HS/Sigma_ff\n",
        "\n",
        "#Sigma_sf[A]/Sigma_ff[A]\n",
        "Sigma_sf = Sigma_sf/Sigma_ff\n",
        "\n",
        "#Sigma_ff[A]\n",
        "Sigma_ff = Sigma_ff/Sigma_ff\n",
        "\n",
        "#R_cut of the WCA potential\n",
        "rc_MF = 5.*Sigma_ff"
      ]
    },
    {
      "cell_type": "markdown",
      "id": "0b1681e0",
      "metadata": {
        "id": "0b1681e0"
      },
      "source": [
        "### We obtain the mean bulk density of the fluid."
      ]
    },
    {
      "cell_type": "code",
      "execution_count": null,
      "id": "11f6a626",
      "metadata": {
        "id": "11f6a626"
      },
      "outputs": [],
      "source": [
        "#%%\n",
        "#Calculating Rho_H\n",
        "from scipy.optimize import minimize\n",
        "\n",
        "def Fobj_Rho(rho0):\n",
        "    #Initial guess\n",
        "    Eta = np.pi*rho0*Sigma_ff**3/6.\n",
        "    #Carnahan–Starling equation of state\n",
        "    P_cs = T*rho0*(1+Eta+Eta**2-Eta**3)/(1-Eta)**3\n",
        "    #Mean-Field\n",
        "    P_MF_WCA = rho0**2*0.5*(-np.sqrt(2)*(32./9.)*np.pi*Eps_kb*Sigma_ff**3 +\n",
        "              (16./3.)*np.pi*Eps_kb*Sigma_ff**3*((Sigma_ff/(rc_MF))**3 -\n",
        "              (1./3.)*(Sigma_ff/(5.*rc_MF))**9))\n",
        "    P_c = P_cs+P_MF_WCA\n",
        "    return (P_c-P)**2\n",
        "\n",
        "min_val = minimize(Fobj_Rho, 1.e-7, method='BFGS')\n",
        "\n",
        "rho_H = min_val.x"
      ]
    },
    {
      "cell_type": "markdown",
      "id": "65d91933",
      "metadata": {
        "id": "65d91933"
      },
      "source": [
        "### And we calculate the chemical pontential"
      ]
    },
    {
      "cell_type": "code",
      "execution_count": null,
      "id": "ed3533b5",
      "metadata": {
        "id": "ed3533b5"
      },
      "outputs": [],
      "source": [
        "#%%\n",
        "#Chemical-Potential calculation\n",
        "\n",
        "#Ideal-Gas contribution\n",
        "mu_ID = T*np.log(rho_H)\n",
        "\n",
        "\n",
        "#Hard-Sphere Contribution\n",
        "EtaH = np.pi*rho_H*Sigma_ff**3/6.0\n",
        "mu_HS = T*(EtaH*(8.0-9.0*EtaH+3.*EtaH**2)/(1.-EtaH)**3)\n",
        "\n",
        "\n",
        "#Dispersive contribution\n",
        "mu_MF_WCA = rho_H*(-np.sqrt(2)*(32./9.)*np.pi*Eps_kb*Sigma_ff**3 +\n",
        "          (16./3.)*np.pi*Eps_kb*Sigma_ff**3*((Sigma_ff/(5.*Sigma_ff))**3 -\n",
        "          (1./3.)*(Sigma_ff/(5.*Sigma_ff))**9))\n",
        "\n",
        "#Total Amount\n",
        "mu_H = mu_ID+mu_HS+mu_MF_WCA"
      ]
    },
    {
      "cell_type": "markdown",
      "id": "47f23471",
      "metadata": {
        "id": "47f23471"
      },
      "source": [
        "### To transform the interaction potential between two fluid plates, consider the problem described below in cylindrical coordinates, where r represents the distance between a position on the fluid plate on the right located at z = z, and a point on another fluid plate located at z=z'."
      ]
    },
    {
      "cell_type": "markdown",
      "id": "812d649e",
      "metadata": {
        "id": "812d649e"
      },
      "source": [
        "![Descrição da Imagem](data:image/png;base64,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)"
      ]
    },
    {
      "cell_type": "markdown",
      "id": "9efefd17",
      "metadata": {
        "id": "9efefd17"
      },
      "source": [
        "### This allows us to describe the potential ($u(|z-z'|)$) due to a single plane at a distance $|z-z'|$ as:"
      ]
    },
    {
      "cell_type": "markdown",
      "id": "a3cb1d05",
      "metadata": {
        "id": "a3cb1d05"
      },
      "source": [
        "### $u(|z-z'|) = 2 \\pi \\int_{|z-z'|}^\\infty x \\phi(\\text{r}) \\text{d}\\textbf{r}$"
      ]
    },
    {
      "cell_type": "markdown",
      "id": "bef1a019",
      "metadata": {
        "id": "bef1a019"
      },
      "source": [
        "### knowing that,"
      ]
    },
    {
      "cell_type": "markdown",
      "id": "b0df5293",
      "metadata": {
        "id": "b0df5293"
      },
      "source": [
        "### $r = \\sqrt{|z-z'|^2+x^2}$\n",
        "### $\\text{d}(r) = \\text{d}(\\sqrt{|z-z'|^2+x^2})$\n",
        "\n",
        "### $\\text{d}r = \\frac{x}{\\sqrt{|z-z'|^2+x^2}}\\text{d}x$\n",
        "\n",
        "### $\\text{d}r = \\frac{x}{r}\\text{d}x$\n",
        "\n",
        "### $r\\text{d}r = x\\text{d}x$"
      ]
    },
    {
      "cell_type": "markdown",
      "id": "daba1aae",
      "metadata": {
        "id": "daba1aae"
      },
      "source": [
        "### Thus"
      ]
    },
    {
      "cell_type": "markdown",
      "id": "7aa628f4",
      "metadata": {
        "id": "7aa628f4"
      },
      "source": [
        "### $u(|z-z'|) = 2 \\pi \\int_{|z-z'|}^\\infty r \\phi(r) \\text{d}r$"
      ]
    },
    {
      "cell_type": "markdown",
      "id": "d8574077",
      "metadata": {
        "id": "d8574077"
      },
      "source": [
        "### This strategy, if used for a Lennard-Jones potential, allows the 10-4 planar wall potential to be found."
      ]
    },
    {
      "cell_type": "markdown",
      "id": "64c3bfef",
      "metadata": {
        "id": "64c3bfef"
      },
      "source": [
        "### For the WCA potential we should consider when the distance between the planes ($|z-z'|$) is less than $r_{min}$:"
      ]
    },
    {
      "cell_type": "markdown",
      "id": "eb3b2707",
      "metadata": {
        "id": "eb3b2707"
      },
      "source": [
        "### $u(|z-z'|) =  2 \\pi \\int_{|z-z'|}^\\infty r \\phi(r) \\text{d}r $\n",
        "\n",
        "### $=  2 \\pi \\int_{|z-z'|}^{r_{min}} r \\phi(r) \\text{d}r + 2 \\pi \\int_{r_{min}}^{r_c} r \\phi(r) \\text{d}r+0$\n",
        "\n",
        "### $=  2 \\pi \\int_{|z-z'|}^{r_{min}}  -\\epsilon r \\text{d}r + 2 \\pi \\int_{r_{min}}^{r_c} r\\left[\\left(\\frac{\\sigma}{r}\\right)^{12}-2\\left(\\frac{\\sigma}{r}\\right)^{6}\\right] \\text{d}r$\n",
        "\n",
        "### $=  \\epsilon \\pi \\left((|z-z'|^2 - r_{min})^2  \\right) + 2 \\pi \\epsilon \\sigma^2 \\left[\\frac{2}{5}\\left(\\left(\\frac{\\sigma}{r_{min}} \\right)^{10}-\\left(\\frac{\\sigma}{r_c} \\right)^{10} \\right)+\\left(\\left(\\frac{\\sigma}{r_{c}} \\right)^4-\\left(\\frac{\\sigma}{r_{min}} \\right)^{4} \\right) \\right]$"
      ]
    },
    {
      "cell_type": "markdown",
      "id": "f069dc72",
      "metadata": {
        "id": "f069dc72"
      },
      "source": [
        "### If the distance between the two planes is greater than $r_{min}$ and less than the cutting radius ($r_c$):"
      ]
    },
    {
      "cell_type": "markdown",
      "id": "a091191d",
      "metadata": {
        "id": "a091191d"
      },
      "source": [
        "### $u(|z-z'|) = 2 \\pi \\int_{|z-z'|}^{r_c} r \\phi(r) \\text{d}r+0$\n",
        "\n",
        "### $=  2 \\pi \\int_{|z-z'|}^{r_c} r\\left[\\left(\\frac{\\sigma}{r}\\right)^{12}-2\\left(\\frac{\\sigma}{r}\\right)^{6}\\right] \\text{d}r$\n",
        "\n",
        "### $= 2 \\pi \\epsilon \\sigma^2 \\left[\\frac{2}{5}\\left(\\left(\\frac{\\sigma}{|z-z'|} \\right)^{10}-\\left(\\frac{\\sigma}{r_c} \\right)^{10} \\right)+\\left(\\left(\\frac{\\sigma}{r_{c}} \\right)^4-\\left(\\frac{\\sigma}{|z-z'|} \\right)^{4} \\right) \\right]$"
      ]
    },
    {
      "cell_type": "markdown",
      "id": "3dadcc5f",
      "metadata": {
        "id": "3dadcc5f"
      },
      "source": [
        "### So for a one-dimensional problem the WCA potential can be rewritten in the form:"
      ]
    },
    {
      "cell_type": "markdown",
      "id": "3086de59",
      "metadata": {
        "id": "3086de59"
      },
      "source": [
        "### $$\n",
        "\\phi_{\\text{disp}}^{\\text{WCA}}(|z-z'|) = \\begin{cases}\n",
        "0 & \\text{if } r > 5\\sigma \\\\\n",
        "2 \\pi \\epsilon \\sigma^2 \\left[\\frac{2}{5}\\left(\\left(\\frac{\\sigma}{|z-z'|} \\right)^{10}-\\left(\\frac{\\sigma}{r_c} \\right)^{10} \\right)+\\left(\\left(\\frac{\\sigma}{r_{c}} \\right)^4-\\left(\\frac{\\sigma}{|z-z'|} \\right)^{4} \\right) \\right] & \\text{if } r_{rmin} \\leq |z-z'| \\leq r_c \\\\\n",
        "\\epsilon \\pi \\left((|z-z'|^2 - r_{min})^2  \\right) + 2 \\pi \\epsilon \\sigma^2 \\left[\\frac{2}{5}\\left(\\left(\\frac{\\sigma}{r_{min}} \\right)^{10}-\\left(\\frac{\\sigma}{r_c} \\right)^{10} \\right)+\\left(\\left(\\frac{\\sigma}{r_{c}} \\right)^4-\\left(\\frac{\\sigma}{r_{min}} \\right)^{4} \\right) \\right] & \\text{if } |z-z'| < r_{min}\n",
        "\\end{cases}\n",
        "$$"
      ]
    },
    {
      "cell_type": "markdown",
      "id": "7c69fcc4",
      "metadata": {
        "id": "7c69fcc4"
      },
      "source": [
        "### Where for WCA potential $r_{min} = 2^\\frac{1}{6}\\sigma$ and $r_c = 5\\sigma$"
      ]
    },
    {
      "cell_type": "markdown",
      "id": "531c9c5a",
      "metadata": {
        "id": "531c9c5a"
      },
      "source": [
        "### Below is a python function algorithm for calculating this potential, where dist represents $|z-z'|$, rc is $r_c$, eps and Sig_ff are the Lennard-Jones parameters of the fluid $\\epsilon$ and $\\sigma_{ff}$"
      ]
    },
    {
      "cell_type": "code",
      "execution_count": null,
      "id": "bdc890b6",
      "metadata": {
        "id": "bdc890b6"
      },
      "outputs": [],
      "source": [
        "import numpy as np\n",
        "from numba import jit\n",
        "\n",
        "@jit(nopython=True)\n",
        "def Phi_wca(dist,rc,eps,Sig_ff):\n",
        "    rmin = 2.**(1./6.)*Sig_ff\n",
        "    if dist>rc:\n",
        "        return 0\n",
        "    elif (dist>rmin and dist<=rc):\n",
        "        Temp1 = (2./5.)*(eps*Sig_ff**12)/(dist**10)-eps*Sig_ff**6/(dist**4)\n",
        "        Temp2 = (2./5.)*(eps*Sig_ff**12)/(rc**10)-eps*Sig_ff**6/(rc**4)\n",
        "        return  2.*np.pi*(Temp1 - Temp2)\n",
        "    else:\n",
        "        Temp0 = 0.5*eps*(dist**2-rmin**2)\n",
        "        Temp1 = (2./5.)*(eps*Sig_ff**12)/(rmin**10)-eps*Sig_ff**6/(rmin**4)\n",
        "        Temp2 = (2./5.)*(eps*Sig_ff**12)/(rc**10)-eps*Sig_ff**6/(rc**4)\n",
        "        return 2.*np.pi*(Temp0 + Temp1 - Temp2)"
      ]
    },
    {
      "cell_type": "markdown",
      "id": "d1746a14",
      "metadata": {
        "id": "d1746a14"
      },
      "source": [
        "### Knowing how to calculate the WCA potential, it is necessary to solve the dispersive contribution of the functional derivative of the free energy in relation to the particle density:"
      ]
    },
    {
      "cell_type": "markdown",
      "id": "1a809fc9",
      "metadata": {
        "id": "1a809fc9"
      },
      "source": [
        "### $\\frac{\\delta F_{MF}[\\rho(\\textbf{r})]}{\\delta\\rho(\\textbf{r})}=\\frac{\\delta}{\\delta\\rho(\\textbf{r})}\\frac{1}{2}\\int \\int \\rho(\\textbf{r'})\\rho(\\textbf{r''})\\phi(|\\textbf{r'}-\\textbf{r''}|)\\text{d}\\textbf{r'}\\text{d}\\textbf{r''}$\n",
        "\n",
        "### $\\frac{\\delta F_{MF}[\\rho(\\textbf{r})]}{\\delta\\rho(\\textbf{r})}=\\frac{1}{2} \\int \\int \\frac{\\delta\\rho(\\textbf{r'})}{\\delta\\rho(\\textbf{r})}\\rho(\\textbf{r''})\\phi(|\\textbf{r'}-\\textbf{r''}|)\\text{d}\\textbf{r'}\\text{d}\\textbf{r''}+\\frac{1}{2} \\int \\int \\rho(\\textbf{r''})\\frac{\\delta\\rho(\\textbf{r'})}{\\delta\\rho(\\textbf{r})}\\phi(|\\textbf{r'}-\\textbf{r''}|)\\text{d}\\textbf{r'}\\text{d}\\textbf{r''}$\n",
        "\n",
        "### $\\frac{\\delta F_{MF}[\\rho(\\textbf{r})]}{\\delta\\rho(\\textbf{r})}=\\frac{1}{2} \\int \\int \\delta(\\textbf{r'}-\\textbf{r})\\rho(\\textbf{r''})\\phi(|\\textbf{r'}-\\textbf{r''}|)\\text{d}\\textbf{r'}\\text{d}\\textbf{r''}+\\frac{1}{2} \\int \\int \\delta(\\textbf{r''}-\\textbf{r}) \\rho(\\textbf{r'})\\phi(|\\textbf{r'}-\\textbf{r''}|)\\text{d}\\textbf{r'}\\text{d}\\textbf{r''}$\n",
        "\n",
        "### $\\frac{\\delta F_{MF}[\\rho(\\textbf{r})]}{\\delta\\rho(\\textbf{r})}=\\frac{1}{2} \\int \\rho(r'')\\phi(|\\textbf{r}-\\textbf{r''}|)\\text{d}\\textbf{r''}+\\frac{1}{2}\\int \\rho(\\textbf{r'})\\phi(|\\textbf{r'}-\\textbf{r}|)\\text{d}\\textbf{r'}$\n",
        "\n",
        "### $\\frac{\\delta F_{MF}[\\rho(\\textbf{r})]}{\\delta\\rho(\\textbf{r})}=\\int \\rho(\\textbf{r'})\\phi(|\\textbf{r'}-\\textbf{r}|)\\text{d}\\textbf{r'}$"
      ]
    },
    {
      "cell_type": "markdown",
      "id": "f35191fc",
      "metadata": {
        "id": "f35191fc"
      },
      "source": [
        "### As with the FMT, the weights relating each grid point can be calculated in advance. In the case of simulating a 1D box, the densities will be convoluted using an Np x Np matrix, where Np is the number of grid points. Each element of this matrix shows the potential between these two positions.  Below is a function algorithm for evaluating this matrix where Z_vec is the position vector, rc is the WCA cut radius, eps and sig_ff are the Lennard-Jones parameters."
      ]
    },
    {
      "cell_type": "code",
      "execution_count": null,
      "id": "3e8f9aa6",
      "metadata": {
        "id": "3e8f9aa6"
      },
      "outputs": [],
      "source": [
        "@jit(nopython=True)\n",
        "def MF_phi(Z_vec,rc,eps,Sig_ff):\n",
        "    Phi_att = np.zeros((len(Z_vec),len(Z_vec)))\n",
        "    for j in range(len(Z_vec)):\n",
        "        for i in range(len(Z_vec)):\n",
        "           Phi_att[i,j] = Phi_wca(abs(Z_vec[i]-Z_vec[j]),rc,eps,Sig_ff)\n",
        "    return Phi_att"
      ]
    },
    {
      "cell_type": "markdown",
      "id": "e93e924a",
      "metadata": {
        "id": "e93e924a"
      },
      "source": [
        "### And with these functions the derivative of the free energy for the dispersive contribution can be calculated by the convolution below."
      ]
    },
    {
      "cell_type": "code",
      "execution_count": null,
      "id": "f45aa539",
      "metadata": {
        "id": "f45aa539"
      },
      "outputs": [],
      "source": [
        "@jit(nopython=True)\n",
        "def calc_dFAtt(H, MF, rho_vec, Nump, dz, Sigma_ff, eps, Z_vec, rc):\n",
        "    conv = np.sum(MF * rho_vec, axis=1)\n",
        "    FAtt = conv * dz\n",
        "    return FAtt"
      ]
    },
    {
      "cell_type": "markdown",
      "id": "1e8b8d52",
      "metadata": {
        "id": "1e8b8d52"
      },
      "source": [
        "### Below is an example for the evaluation of the adsorption isotherm for argon on graphite:"
      ]
    },
    {
      "cell_type": "code",
      "execution_count": null,
      "id": "1c0ce79b",
      "metadata": {
        "id": "1c0ce79b"
      },
      "outputs": [],
      "source": [
        "import numpy as np\n",
        "from matplotlib import pyplot as plt\n",
        "from scipy.optimize import minimize\n",
        "from numba import jit\n",
        "from scipy import integrate"
      ]
    },
    {
      "cell_type": "markdown",
      "id": "c0b8e822",
      "metadata": {
        "id": "c0b8e822"
      },
      "source": [
        "### To simplify the implementation, the mods folder contains files with modules for calculating the FMT and Mean-Field Approximation (MFA) functions. These modules are imported below."
      ]
    },
    {
      "cell_type": "code",
      "execution_count": null,
      "id": "c5bd8907",
      "metadata": {
        "id": "c5bd8907",
        "outputId": "b12c445e-cbbd-4fd7-f178-df263a8dc76b"
      },
      "outputs": [
        {
          "ename": "ModuleNotFoundError",
          "evalue": "No module named 'MF_mod_conv1D'",
          "output_type": "error",
          "traceback": [
            "\u001b[1;31m---------------------------------------------------------------------------\u001b[0m",
            "\u001b[1;31mModuleNotFoundError\u001b[0m                       Traceback (most recent call last)",
            "Cell \u001b[1;32mIn[24], line 3\u001b[0m\n\u001b[0;32m      1\u001b[0m \u001b[38;5;66;03m#import FMT_FFT_mod as fmt   #!!FMT withc convolutions evaluated by FFT\u001b[39;00m\n\u001b[0;32m      2\u001b[0m \u001b[38;5;28;01mimport\u001b[39;00m \u001b[38;5;21;01mFMT_mod\u001b[39;00m \u001b[38;5;28;01mas\u001b[39;00m \u001b[38;5;21;01mfmt\u001b[39;00m        \u001b[38;5;66;03m#!!FMT with convolutions evaluated in real space\u001b[39;00m\n\u001b[1;32m----> 3\u001b[0m \u001b[38;5;28;01mimport\u001b[39;00m \u001b[38;5;21;01mMF_mod_conv1D\u001b[39;00m \u001b[38;5;28;01mas\u001b[39;00m \u001b[38;5;21;01mwca\u001b[39;00m\n",
            "\u001b[1;31mModuleNotFoundError\u001b[0m: No module named 'MF_mod_conv1D'"
          ]
        }
      ],
      "source": [
        "#import FMT_FFT_mod as fmt   #!!FMT withc convolutions evaluated by FFT\n",
        "import FMT_mod as fmt        #!!FMT with convolutions evaluated in real space\n",
        "import MF_mod_conv1D as wca  #!!MFA with convolutions evaluated in real space"
      ]
    },
    {
      "cell_type": "code",
      "execution_count": null,
      "id": "8942155d",
      "metadata": {
        "id": "8942155d",
        "outputId": "f029ef81-4546-4e6c-ee59-a761cd289b01"
      },
      "outputs": [
        {
          "data": {
            "image/png": "[encoded data removed]",
            "text/plain": [
              "<Figure size 640x480 with 1 Axes>"
            ]
          },
          "metadata": {},
          "output_type": "display_data"
        }
      ],
      "source": [
        "#%%\n",
        "#Temperature of the system [K]\n",
        "T = 87.\n",
        "#Volumar Pressure [Bar]\n",
        "P = np.linspace(0.001,0.1,100)\n",
        "#LJ Properties of the molecule probe\n",
        "Sigma_ff = 3.305 #A\n",
        "Sigma_ori=Sigma_ff\n",
        "d_HS = 3.38#Sigma_ff\n",
        "Eps_kb = 118.05 #K\n",
        "#LJ Properties of the wall\n",
        "E_eff = 17.61\n",
        "Sigma_sf = 3.494\n",
        "#Boltzmann constant\n",
        "kb = 1.3806488e-23\n",
        "#%%\n",
        "\n",
        "#---------------------------------------------------------------------\n",
        "#Nondimensionalization\n",
        "#---------------------------------------------------------------------\n",
        "# T[K] / Eps_kb[K]\n",
        "T = T/Eps_kb\n",
        "\n",
        "# bar -> Pa (kg/m s^2)\n",
        "# kb [kg⋅m2⋅s−2/K] * Eps_kb[K] * Sigma_ff*1.e-10)**3 [m^3] ~ [kg/m s^2]\n",
        "P = ((P*1.e5)/(kb*Eps_kb)*(Sigma_ff*1.e-10)**3)\n",
        "\n",
        "# E_eff[K/A^2] / Eps_kb[K] * Sigma_ff^2 [A^2]\n",
        "E_eff = E_eff#/Eps_kb*(Sigma_ff*Sigma_ff)\n",
        "\n",
        "# Eps_kb[K]\n",
        "Eps_kb = Eps_kb/Eps_kb\n",
        "\n",
        "#d_HS[A] / Sigma_ff[A]\n",
        "d_HS = d_HS/Sigma_ff\n",
        "\n",
        "#Sigma_sf[A]/Sigma_ff[A]\n",
        "Sigma_sf = Sigma_sf/Sigma_ff\n",
        "\n",
        "#Sigma_ff[A]\n",
        "Sigma_ff = Sigma_ff/Sigma_ff\n",
        "#R_cut\n",
        "rc_MF = 5.*Sigma_ff\n",
        "\n",
        "#---------------------------------------------------------------------\n",
        "#Building the simulation box\n",
        "#---------------------------------------------------------------------\n",
        "#Number of points of the grid\n",
        "Nump = 501\n",
        "#Step size on z direction\n",
        "dz  = 0.01\n",
        "#Tamanho\n",
        "H = dz*(Nump-1)\n",
        "#Spacial vector\n",
        "Z_vec = np.linspace(0,H,Nump)\n",
        "\n",
        "#---------------------------------------------------------------------\n",
        "#Calculating bulk density (rho_H)\n",
        "\n",
        "def Fobj_Rho(rho0):\n",
        "    #Initial guess\n",
        "    Eta = np.pi*rho0*Sigma_ff**3/6.\n",
        "    #Carnahan–Starling equation of state\n",
        "    P_cs = T*rho0*(1+Eta+Eta**2-Eta**3)/(1-Eta)**3\n",
        "    #Mean-Field\n",
        "    P_MF_WCA = rho0**2*0.5*(-np.sqrt(2)*(32./9.)*np.pi*Eps_kb*Sigma_ff**3 +\n",
        "              (16./3.)*np.pi*Eps_kb*Sigma_ff**3*((Sigma_ff/(rc_MF))**3 -\n",
        "              (1./3.)*(Sigma_ff/(5.*rc_MF))**9))\n",
        "    P_c = P_cs+P_MF_WCA\n",
        "    return (P_c-P_in)**2\n",
        "\n",
        "rho_H = np.zeros(len(P))\n",
        "for i in range(len(P)):\n",
        "    P_in = P[i]\n",
        "    minval = minimize(Fobj_Rho, 1.e-7, method='BFGS')\n",
        "    rho_H[i] = minval.x\n",
        "\n",
        "#---------------------------------------------------------------------\n",
        "#Chemical-Potential calculation\n",
        "#---------------------------------------------------------------------\n",
        "\n",
        "#Ideal-Gas contribution\n",
        "mu_ID = T*np.log(rho_H)\n",
        "\n",
        "#Hard-Sphere contribution\n",
        "EtaH = np.pi*rho_H*Sigma_ff**3/6.0\n",
        "mu_HS = T*(EtaH*(8.0-9.0*EtaH+3.*EtaH**2)/(1.-EtaH)**3)\n",
        "\n",
        "#Dispersive contribution\n",
        "mu_MF_WCA = rho_H*(-np.sqrt(2)*(32./9.)*np.pi*Eps_kb*Sigma_ff**3 +\n",
        "          (16./3.)*np.pi*Eps_kb*Sigma_ff**3*((Sigma_ff/(5.*Sigma_ff))**3 -\n",
        "          (1./3.)*(Sigma_ff/(5.*Sigma_ff))**9))\n",
        "\n",
        "\n",
        "mu_H = mu_ID+mu_HS+mu_MF_WCA\n",
        "\n",
        "#---------------------------------------------------------------------\n",
        "#External Potential\n",
        "#---------------------------------------------------------------------\n",
        "\n",
        "def Phi_ext(E_eff,Sigma_sf,dist):\n",
        "    delta = 3.35/Sigma_ori\n",
        "    if dist != 0:\n",
        "        return E_eff*(0.4*(Sigma_sf/dist)**10-(Sigma_sf/dist)**4-(Sigma_sf**4/(3.*delta*(0.61*delta+dist)**3)))\n",
        "    elif dist == 0:\n",
        "        return 1e200\n",
        "\n",
        "Vext_vec = np.zeros(Nump)\n",
        "\n",
        "for i in range(Nump):\n",
        "    Vext_vec[i] = T*Phi_ext(E_eff,Sigma_sf,Z_vec[i]) + \\\n",
        "                  T*Phi_ext(E_eff,Sigma_sf,H-Z_vec[i])\n",
        "\n",
        "plt.plot(Z_vec,Vext_vec)\n",
        "plt.plot(Z_vec,np.zeros((Nump)))\n",
        "plt.ylabel(\"$V_{ext}/K_BT$\")\n",
        "plt.xlabel(\"$z \\sigma^{-1}$\")\n",
        "plt.ylim(np.min(Vext_vec),1)\n",
        "plt.show()"
      ]
    },
    {
      "cell_type": "markdown",
      "id": "dc57c36b",
      "metadata": {
        "id": "dc57c36b"
      },
      "source": [
        "### Both FMT and MFA have a matrix of weights that will be used in all iterations. To reduce the computational cost, these matrices can be pre-calculated so that these kernels are used during the loop of the DFT solution method."
      ]
    },
    {
      "cell_type": "code",
      "execution_count": null,
      "id": "a172bec7",
      "metadata": {
        "id": "a172bec7",
        "outputId": "f8a62092-a9c4-41d5-9358-7ae6e723b566"
      },
      "outputs": [
        {
          "ename": "AttributeError",
          "evalue": "module 'FMT_mod' has no attribute 'omega_calc'",
          "output_type": "error",
          "traceback": [
            "\u001b[1;31m---------------------------------------------------------------------------\u001b[0m",
            "\u001b[1;31mAttributeError\u001b[0m                            Traceback (most recent call last)",
            "Cell \u001b[1;32mIn[26], line 4\u001b[0m\n\u001b[0;32m      1\u001b[0m \u001b[38;5;66;03m#---------------------------------------------------------------------\u001b[39;00m\n\u001b[0;32m      2\u001b[0m \u001b[38;5;66;03m#Calculation of the FMT weighting functions and Phi_WCA (Mods)\u001b[39;00m\n\u001b[0;32m      3\u001b[0m \u001b[38;5;66;03m#---------------------------------------------------------------------\u001b[39;00m\n\u001b[1;32m----> 4\u001b[0m omega_weight \u001b[38;5;241m=\u001b[39m fmt\u001b[38;5;241m.\u001b[39momega_calc(H, Nump, Sigma_ff, Z_vec)\n\u001b[0;32m      5\u001b[0m Phi_wca \u001b[38;5;241m=\u001b[39m wca\u001b[38;5;241m.\u001b[39mMF_weight(Z_vec,rc_MF,Eps_kb,Sigma_ff)\n",
            "\u001b[1;31mAttributeError\u001b[0m: module 'FMT_mod' has no attribute 'omega_calc'"
          ]
        }
      ],
      "source": [
        "#---------------------------------------------------------------------\n",
        "#Calculation of the FMT weighting functions and Phi_WCA (Mods)\n",
        "#---------------------------------------------------------------------\n",
        "omega_weight = fmt.omega_calc(H, Nump, Sigma_ff, Z_vec)\n",
        "MFA_weight = wca.MF_weight(Z_vec,rc_MF,Eps_kb,Sigma_ff)\n",
        "#---------------------------------------------------------------------"
      ]
    },
    {
      "cell_type": "markdown",
      "id": "adaf347c",
      "metadata": {
        "id": "adaf347c"
      },
      "source": [
        "### Now that everything is ready, we can start the Picard method for each point on the adsorption isotherm. One of the ways to obtain this curve is to make an initial guess of a constant density equal to the bulk density at the first point and use the previous profiles as an initial estimate of the next:"
      ]
    },
    {
      "cell_type": "code",
      "execution_count": null,
      "id": "4d45bc84",
      "metadata": {
        "id": "4d45bc84",
        "outputId": "01e83294-b842-4452-9f67-1aacdc5fa29d"
      },
      "outputs": [
        {
          "ename": "NameError",
          "evalue": "name 'omega_weight' is not defined",
          "output_type": "error",
          "traceback": [
            "\u001b[1;31m---------------------------------------------------------------------------\u001b[0m",
            "\u001b[1;31mNameError\u001b[0m                                 Traceback (most recent call last)",
            "Cell \u001b[1;32mIn[27], line 23\u001b[0m\n\u001b[0;32m     21\u001b[0m \u001b[38;5;28;01mwhile\u001b[39;00m accu \u001b[38;5;241m==\u001b[39m \u001b[38;5;241m1\u001b[39m:\n\u001b[0;32m     22\u001b[0m     itera \u001b[38;5;241m+\u001b[39m\u001b[38;5;241m=\u001b[39m \u001b[38;5;241m1\u001b[39m    \n\u001b[1;32m---> 23\u001b[0m     dFhs \u001b[38;5;241m=\u001b[39m fmt\u001b[38;5;241m.\u001b[39mcalc_dFHS(H, omega_weight, rho_vec, Nump, dz, T, d_HS, Z_vec)\n\u001b[0;32m     24\u001b[0m     dFatt \u001b[38;5;241m=\u001b[39m wca\u001b[38;5;241m.\u001b[39mcalc_dFAtt(H,MFA_weight,rho_vec,Nump,dz,Sigma_ff,\n\u001b[0;32m     25\u001b[0m                            Eps_kb,Z_vec,rc_MF)\n\u001b[0;32m     26\u001b[0m     rho_vec_new \u001b[38;5;241m=\u001b[39m np\u001b[38;5;241m.\u001b[39mexp(mu_H[i]\u001b[38;5;241m/\u001b[39mT\u001b[38;5;241m-\u001b[39mVext_vec\u001b[38;5;241m/\u001b[39mT\u001b[38;5;241m-\u001b[39mdFhs\u001b[38;5;241m/\u001b[39mT\u001b[38;5;241m-\u001b[39mdFatt\u001b[38;5;241m/\u001b[39mT)\n",
            "\u001b[1;31mNameError\u001b[0m: name 'omega_weight' is not defined"
          ]
        }
      ],
      "source": [
        "Nads = np.zeros(len(P))\n",
        "\n",
        "#Initial guess\n",
        "rho_vec = np.zeros((Nump))+rho_H[0]\n",
        "rho_vec_new = np.zeros((Nump))\n",
        "\n",
        "\n",
        "for i in range(len(P)):\n",
        "    #accuses the convergence of the method\n",
        "    accu = 1\n",
        "\n",
        "    #Tolerance\n",
        "    tol = 1.e-7\n",
        "\n",
        "    #mixing parameter\n",
        "    alpha = 0.0009\n",
        "\n",
        "    #tracking the iterations\n",
        "    itera = 0\n",
        "\n",
        "    while accu == 1:\n",
        "        itera += 1\n",
        "        dFhs = fmt.calc_dFHS(H, omega_weight, rho_vec, Nump, dz, T, d_HS, Z_vec)\n",
        "        dFatt = wca.calc_dFAtt(H,MFA_weight,rho_vec,Nump,dz,Sigma_ff,\n",
        "                               Eps_kb,Z_vec,rc_MF)\n",
        "        rho_vec_new = np.exp(mu_H[i]/T-Vext_vec/T-dFhs/T-dFatt/T)\n",
        "\n",
        "        err = sum((rho_vec_new-rho_vec)**2)/(Nump)\n",
        "        if (err<tol):\n",
        "            accu = 0\n",
        "        rho_vec = (1.-alpha)*rho_vec+alpha*rho_vec_new\n",
        "        #print(err)\n",
        "        if err<0.01:\n",
        "            alpha = 0.02\n",
        "    Nads[i] = integrate.trapz(rho_vec,Z_vec)/(H-Sigma_sf)\n",
        "    print(i,P[i],rho_H[i],Nads[i])\n",
        "    #rho_H_vec = np.zeros((Nump))+rho_H[i]\n",
        "    plt.plot(Z_vec,rho_vec,label=\"P =\"+str(P[i]))\n",
        "    #plt.plot(Z_vec,rho_H_vec)\n",
        "plt.ylabel(r\"$\\rho \\sigma^3$\")\n",
        "plt.xlabel(\"$z \\sigma^{-1}$\")\n",
        "plt.show()"
      ]
    },
    {
      "cell_type": "markdown",
      "id": "8a6fc6aa",
      "metadata": {
        "id": "8a6fc6aa"
      },
      "source": [
        "### Below is an example for the evaluation of the desorption isotherm for argon on graphite:\n",
        "### Here we simply need to change the order in which $\\mu_H$ is fed into the algorithm."
      ]
    },
    {
      "cell_type": "code",
      "execution_count": null,
      "id": "c3d912ec",
      "metadata": {
        "id": "c3d912ec",
        "outputId": "9efed7ea-5c04-43e3-dd10-e9862f89a356"
      },
      "outputs": [
        {
          "ename": "NameError",
          "evalue": "name 'omega_weight' is not defined",
          "output_type": "error",
          "traceback": [
            "\u001b[1;31m---------------------------------------------------------------------------\u001b[0m",
            "\u001b[1;31mNameError\u001b[0m                                 Traceback (most recent call last)",
            "Cell \u001b[1;32mIn[28], line 18\u001b[0m\n\u001b[0;32m     16\u001b[0m \u001b[38;5;28;01mwhile\u001b[39;00m accu \u001b[38;5;241m==\u001b[39m \u001b[38;5;241m1\u001b[39m:\n\u001b[0;32m     17\u001b[0m     itera \u001b[38;5;241m+\u001b[39m\u001b[38;5;241m=\u001b[39m \u001b[38;5;241m1\u001b[39m    \n\u001b[1;32m---> 18\u001b[0m     dFhs \u001b[38;5;241m=\u001b[39m fmt\u001b[38;5;241m.\u001b[39mcalc_dFHS(H, omega_weight, rho_vec, Nump, dz, T, d_HS, Z_vec)\n\u001b[0;32m     19\u001b[0m     dFatt \u001b[38;5;241m=\u001b[39m wca\u001b[38;5;241m.\u001b[39mcalc_dFAtt(H,MFA_weight,rho_vec,Nump,dz,Sigma_ff,\n\u001b[0;32m     20\u001b[0m                            Eps_kb,Z_vec,rc_MF)\n\u001b[0;32m     21\u001b[0m     rho_vec_new \u001b[38;5;241m=\u001b[39m np\u001b[38;5;241m.\u001b[39mexp(mu_H[\u001b[38;5;28mlen\u001b[39m(P)\u001b[38;5;241m-\u001b[39mi\u001b[38;5;241m-\u001b[39m\u001b[38;5;241m1\u001b[39m]\u001b[38;5;241m/\u001b[39mT\u001b[38;5;241m-\u001b[39mVext_vec\u001b[38;5;241m/\u001b[39mT\u001b[38;5;241m-\u001b[39mdFhs\u001b[38;5;241m/\u001b[39mT\u001b[38;5;241m-\u001b[39mdFatt\u001b[38;5;241m/\u001b[39mT)\n",
            "\u001b[1;31mNameError\u001b[0m: name 'omega_weight' is not defined"
          ]
        }
      ],
      "source": [
        "Ndes = np.zeros(len(P))\n",
        "\n",
        "for i in range(len(P)):\n",
        "    #accuses the convergence of the method\n",
        "    accu = 1\n",
        "\n",
        "    #Tolerance\n",
        "    tol = 1.e-7\n",
        "\n",
        "    #mixing parameter\n",
        "    alpha = 0.0009\n",
        "\n",
        "    #tracking the iterations\n",
        "    itera = 0\n",
        "\n",
        "    while accu == 1:\n",
        "        itera += 1\n",
        "        dFhs = fmt.calc_dFHS(H, omega_weight, rho_vec, Nump, dz, T, d_HS, Z_vec)\n",
        "        dFatt = wca.calc_dFAtt(H,MFA_weight,rho_vec,Nump,dz,Sigma_ff,\n",
        "                               Eps_kb,Z_vec,rc_MF)\n",
        "        rho_vec_new = np.exp(mu_H[len(P)-i-1]/T-Vext_vec/T-dFhs/T-dFatt/T)\n",
        "\n",
        "        err = sum((rho_vec_new-rho_vec)**2)/(Nump)\n",
        "        if (err<tol):\n",
        "            accu = 0\n",
        "        rho_vec = (1.-alpha)*rho_vec+alpha*rho_vec_new\n",
        "        #print(err)\n",
        "        if err<0.01:\n",
        "            alpha = 0.02\n",
        "    Ndes[i] = integrate.trapz(rho_vec,Z_vec)/(H-Sigma_sf)\n",
        "    print(i,P[i],rho_H[i],Ndes[i])\n",
        "    #rho_H_vec = np.zeros((Nump))+rho_H[i]\n",
        "    plt.plot(Z_vec,rho_vec,label=\"P =\"+str(P[i]))\n",
        "    #plt.plot(Z_vec,rho_H_vec)\n",
        "plt.ylabel(r\"$\\rho \\sigma^3$\")\n",
        "plt.xlabel(\"$z \\sigma^{-1}$\")\n",
        "plt.show()"
      ]
    },
    {
      "cell_type": "code",
      "execution_count": null,
      "id": "f26f309c",
      "metadata": {
        "id": "f26f309c"
      },
      "outputs": [],
      "source": []
    }
  ],
  "metadata": {
    "kernelspec": {
      "display_name": "Python 3 (ipykernel)",
      "language": "python",
      "name": "python3"
    },
    "language_info": {
      "codemirror_mode": {
        "name": "ipython",
        "version": 3
      },
      "file_extension": ".py",
      "mimetype": "text/x-python",
      "name": "python",
      "nbconvert_exporter": "python",
      "pygments_lexer": "ipython3",
      "version": "3.11.4"
    },
    "colab": {
      "provenance": [],
      "include_colab_link": true
    }
  },
  "nbformat": 4,
  "nbformat_minor": 5
}